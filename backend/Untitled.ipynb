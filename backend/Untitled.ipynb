{
 "cells": [
  {
   "cell_type": "code",
   "execution_count": 2,
   "id": "a182f094",
   "metadata": {},
   "outputs": [
    {
     "name": "stdout",
     "output_type": "stream",
     "text": [
      "Requirement already satisfied: kafka-python in c:\\python311\\lib\\site-packages (2.0.2)\n"
     ]
    },
    {
     "name": "stderr",
     "output_type": "stream",
     "text": [
      "DEPRECATION: Loading egg at c:\\python311\\lib\\site-packages\\vboxapi-1.0-py3.11.egg is deprecated. pip 24.3 will enforce this behaviour change. A possible replacement is to use pip for package installation. Discussion can be found at https://github.com/pypa/pip/issues/12330\n"
     ]
    }
   ],
   "source": [
    "!pip install kafka-python"
   ]
  },
  {
   "cell_type": "code",
   "execution_count": 3,
   "id": "e4670977",
   "metadata": {},
   "outputs": [
    {
     "ename": "ModuleNotFoundError",
     "evalue": "No module named 'kafka'",
     "output_type": "error",
     "traceback": [
      "\u001b[1;31m---------------------------------------------------------------------------\u001b[0m",
      "\u001b[1;31mModuleNotFoundError\u001b[0m                       Traceback (most recent call last)",
      "Cell \u001b[1;32mIn[3], line 5\u001b[0m\n\u001b[0;32m      3\u001b[0m \u001b[38;5;28;01mimport\u001b[39;00m \u001b[38;5;21;01mtime\u001b[39;00m\n\u001b[0;32m      4\u001b[0m \u001b[38;5;28;01mfrom\u001b[39;00m \u001b[38;5;21;01mdatetime\u001b[39;00m \u001b[38;5;28;01mimport\u001b[39;00m datetime, timezone  \u001b[38;5;66;03m# Import timezone\u001b[39;00m\n\u001b[1;32m----> 5\u001b[0m \u001b[38;5;28;01mfrom\u001b[39;00m \u001b[38;5;21;01mkafka\u001b[39;00m \u001b[38;5;28;01mimport\u001b[39;00m KafkaProducer\n\u001b[0;32m      7\u001b[0m \u001b[38;5;66;03m# Function to simulate asteroid data\u001b[39;00m\n\u001b[0;32m      8\u001b[0m \u001b[38;5;28;01mdef\u001b[39;00m \u001b[38;5;21mgenerate_asteroid_data\u001b[39m(asteroid_id):\n",
      "\u001b[1;31mModuleNotFoundError\u001b[0m: No module named 'kafka'"
     ]
    }
   ],
   "source": [
    "import random\n",
    "import json\n",
    "import time\n",
    "from datetime import datetime, timezone  # Import timezone\n",
    "from kafka import KafkaProducer\n",
    "\n",
    "# Function to simulate asteroid data\n",
    "def generate_asteroid_data(asteroid_id):\n",
    "    asteroid_data = {\n",
    "        \"id\": f\"asteroid_{asteroid_id:03d}\",  # Asteroid ID in \"asteroid_001\" format\n",
    "        \"position\": {\n",
    "            \"x\": round(random.uniform(-500000.0, 500000.0), 2),  # Random position in space\n",
    "            \"y\": round(random.uniform(-500000.0, 500000.0), 2),\n",
    "            \"z\": round(random.uniform(-500000.0, 500000.0), 2),\n",
    "        },\n",
    "        \"velocity\": {\n",
    "            \"vx\": round(random.uniform(-50.0, 50.0), 2),  # Random velocity vector components\n",
    "            \"vy\": round(random.uniform(-50.0, 50.0), 2),\n",
    "            \"vz\": round(random.uniform(-50.0, 50.0), 2),\n",
    "        },\n",
    "        \"size\": round(random.uniform(0.1, 10.0), 2),  # Random size in kilometers\n",
    "        \"mass\": round(random.uniform(1e12, 1e15), 2),  # Random mass in kilograms\n",
    "        \"last_time_looked\": datetime.now(timezone.utc).strftime('%Y-%m-%d %H:%M:%S')  # Current UTC time\n",
    "    }\n",
    "    return asteroid_data\n",
    "\n",
    "# Initialize Kafka Producer\n",
    "producer = KafkaProducer(\n",
    "    bootstrap_servers='kafka:9092',  # Kafka broker address as per your Docker setup\n",
    "    value_serializer=lambda v: json.dumps(v).encode('utf-8')  # Serialize data to JSON\n",
    ")\n",
    "\n",
    "# Topic to publish to\n",
    "topic_name = \"asteroid_data\"\n",
    "\n",
    "# Get user input for the number of asteroids to generate\n",
    "num_asteroids = int(input(\"Enter the number of asteroids to generate: \"))\n",
    "\n",
    "try:\n",
    "    print(f\"Generating {num_asteroids} asteroids...\")\n",
    "    \n",
    "    # Loop through and generate the specified number of asteroids\n",
    "    for asteroid_id in range(1, num_asteroids + 1):\n",
    "        data = generate_asteroid_data(asteroid_id)  # Generate data for the current asteroid\n",
    "        producer.send(topic_name, value=data)  # Publish the data to Kafka\n",
    "        print(f\"Published asteroid data: {data}\")\n",
    "        time.sleep(1)  # Add a short delay between asteroid generation (optional)\n",
    "\n",
    "except KeyboardInterrupt:\n",
    "    print(\"Process interrupted...\")\n",
    "\n",
    "finally:\n",
    "    producer.close()  # Ensure producer is closed after execution\n",
    "    print(\"Data generation completed.\")\n"
   ]
  },
  {
   "cell_type": "code",
   "execution_count": null,
   "id": "c913c5d1",
   "metadata": {},
   "outputs": [],
   "source": []
  }
 ],
 "metadata": {
  "kernelspec": {
   "display_name": "Python 3 (ipykernel)",
   "language": "python",
   "name": "python3"
  },
  "language_info": {
   "codemirror_mode": {
    "name": "ipython",
    "version": 3
   },
   "file_extension": ".py",
   "mimetype": "text/x-python",
   "name": "python",
   "nbconvert_exporter": "python",
   "pygments_lexer": "ipython3",
   "version": "3.10.10"
  }
 },
 "nbformat": 4,
 "nbformat_minor": 5
}
