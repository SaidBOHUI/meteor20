{
 "cells": [
  {
   "cell_type": "code",
   "execution_count": 1,
   "id": "a182f094",
   "metadata": {},
   "outputs": [
    {
     "name": "stdout",
     "output_type": "stream",
     "text": [
      "Collecting kafka\n",
      "  Downloading kafka-1.3.5-py2.py3-none-any.whl.metadata (6.9 kB)\n",
      "Downloading kafka-1.3.5-py2.py3-none-any.whl (207 kB)\n",
      "Installing collected packages: kafka\n",
      "Successfully installed kafka-1.3.5\n"
     ]
    }
   ],
   "source": [
    "!pip install kafka"
   ]
  },
  {
   "cell_type": "code",
   "execution_count": 2,
   "id": "e4670977",
   "metadata": {},
   "outputs": [
    {
     "ename": "SyntaxError",
     "evalue": "invalid syntax (simple.py, line 54)",
     "output_type": "error",
     "traceback": [
      "Traceback \u001b[1;36m(most recent call last)\u001b[0m:\n",
      "\u001b[0m  File \u001b[0;32mc:\\Users\\fares.meziani\\Documents\\Ecole\\Hadoop\\Model\\env\\Lib\\site-packages\\IPython\\core\\interactiveshell.py:3577\u001b[0m in \u001b[0;35mrun_code\u001b[0m\n    exec(code_obj, self.user_global_ns, self.user_ns)\u001b[0m\n",
      "\u001b[0m  Cell \u001b[0;32mIn[2], line 5\u001b[0m\n    from kafka import KafkaProducer\u001b[0m\n",
      "\u001b[0m  File \u001b[0;32mc:\\Users\\fares.meziani\\Documents\\Ecole\\Hadoop\\Model\\env\\Lib\\site-packages\\kafka\\__init__.py:23\u001b[0m\n    from kafka.producer import KafkaProducer\u001b[0m\n",
      "\u001b[1;36m  File \u001b[1;32mc:\\Users\\fares.meziani\\Documents\\Ecole\\Hadoop\\Model\\env\\Lib\\site-packages\\kafka\\producer\\__init__.py:4\u001b[1;36m\n\u001b[1;33m    from .simple import SimpleProducer\u001b[1;36m\n",
      "\u001b[1;36m  File \u001b[1;32mc:\\Users\\fares.meziani\\Documents\\Ecole\\Hadoop\\Model\\env\\Lib\\site-packages\\kafka\\producer\\simple.py:54\u001b[1;36m\u001b[0m\n\u001b[1;33m    return '<SimpleProducer batch=%s>' % self.async\u001b[0m\n\u001b[1;37m                                              ^\u001b[0m\n\u001b[1;31mSyntaxError\u001b[0m\u001b[1;31m:\u001b[0m invalid syntax\n"
     ]
    }
   ],
   "source": [
    "import random\n",
    "import json\n",
    "import time\n",
    "from datetime import datetime, timezone  # Import timezone\n",
    "from kafka import KafkaProducer\n",
    "\n",
    "# Function to simulate asteroid data\n",
    "def generate_asteroid_data(asteroid_id):\n",
    "    asteroid_data = {\n",
    "        \"id\": f\"asteroid_{asteroid_id:03d}\",  # Asteroid ID in \"asteroid_001\" format\n",
    "        \"position\": {\n",
    "            \"x\": round(random.uniform(-500000.0, 500000.0), 2),  # Random position in space\n",
    "            \"y\": round(random.uniform(-500000.0, 500000.0), 2),\n",
    "            \"z\": round(random.uniform(-500000.0, 500000.0), 2),\n",
    "        },\n",
    "        \"velocity\": {\n",
    "            \"vx\": round(random.uniform(-50.0, 50.0), 2),  # Random velocity vector components\n",
    "            \"vy\": round(random.uniform(-50.0, 50.0), 2),\n",
    "            \"vz\": round(random.uniform(-50.0, 50.0), 2),\n",
    "        },\n",
    "        \"size\": round(random.uniform(0.1, 10.0), 2),  # Random size in kilometers\n",
    "        \"mass\": round(random.uniform(1e12, 1e15), 2),  # Random mass in kilograms\n",
    "        \"last_time_looked\": datetime.now(timezone.utc).strftime('%Y-%m-%d %H:%M:%S')  # Current UTC time\n",
    "    }\n",
    "    return asteroid_data\n",
    "\n",
    "# Initialize Kafka Producer\n",
    "producer = KafkaProducer(\n",
    "    bootstrap_servers='kafka:9092',  # Kafka broker address as per your Docker setup\n",
    "    value_serializer=lambda v: json.dumps(v).encode('utf-8')  # Serialize data to JSON\n",
    ")\n",
    "\n",
    "# Topic to publish to\n",
    "topic_name = \"asteroid_data\"\n",
    "\n",
    "# Get user input for the number of asteroids to generate\n",
    "num_asteroids = int(input(\"Enter the number of asteroids to generate: \"))\n",
    "\n",
    "try:\n",
    "    print(f\"Generating {num_asteroids} asteroids...\")\n",
    "    \n",
    "    # Loop through and generate the specified number of asteroids\n",
    "    for asteroid_id in range(1, num_asteroids + 1):\n",
    "        data = generate_asteroid_data(asteroid_id)  # Generate data for the current asteroid\n",
    "        producer.send(topic_name, value=data)  # Publish the data to Kafka\n",
    "        print(f\"Published asteroid data: {data}\")\n",
    "        time.sleep(1)  # Add a short delay between asteroid generation (optional)\n",
    "\n",
    "except KeyboardInterrupt:\n",
    "    print(\"Process interrupted...\")\n",
    "\n",
    "finally:\n",
    "    producer.close()  # Ensure producer is closed after execution\n",
    "    print(\"Data generation completed.\")\n"
   ]
  },
  {
   "cell_type": "code",
   "execution_count": null,
   "id": "c913c5d1",
   "metadata": {},
   "outputs": [],
   "source": []
  }
 ],
 "metadata": {
  "kernelspec": {
   "display_name": "env",
   "language": "python",
   "name": "python3"
  },
  "language_info": {
   "codemirror_mode": {
    "name": "ipython",
    "version": 3
   },
   "file_extension": ".py",
   "mimetype": "text/x-python",
   "name": "python",
   "nbconvert_exporter": "python",
   "pygments_lexer": "ipython3",
   "version": "3.11.9"
  }
 },
 "nbformat": 4,
 "nbformat_minor": 5
}
